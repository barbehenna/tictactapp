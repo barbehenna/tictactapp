{
 "cells": [
  {
   "cell_type": "code",
   "execution_count": null,
   "metadata": {},
   "outputs": [],
   "source": [
    "https://github.com/JuliaPOMDP/POMDPs.jl"
   ]
  },
  {
   "cell_type": "code",
   "execution_count": null,
   "metadata": {},
   "outputs": [],
   "source": [
    "using POMDPs\n",
    "using Pkg"
   ]
  },
  {
   "cell_type": "code",
   "execution_count": null,
   "metadata": {},
   "outputs": [],
   "source": [
    "POMDPs.add_registry()"
   ]
  },
  {
   "cell_type": "code",
   "execution_count": null,
   "metadata": {},
   "outputs": [],
   "source": [
    "Pkg.add.([\"QuickPOMDPs\", \"POMDPSimulators\", \"QMDP\"])"
   ]
  },
  {
   "cell_type": "code",
   "execution_count": null,
   "metadata": {},
   "outputs": [],
   "source": [
    "using POMDPs, QuickPOMDPs, POMDPSimulators, QMDP"
   ]
  },
  {
   "cell_type": "code",
   "execution_count": null,
   "metadata": {},
   "outputs": [],
   "source": [
    "S = [:left, :right]           # S, A, and O may contain any objects\n",
    "A = [:left, :right, :listen]  # including user-defined types\n",
    "O = [:left, :right]\n",
    "γ = 0.95\n",
    "\n",
    "function T(s, a, sp)\n",
    "    if a == :listen\n",
    "        return s == sp\n",
    "    else # a door is opened\n",
    "        return 0.5 #reset\n",
    "    end\n",
    "end\n",
    "\n",
    "function Z(a, sp, o)\n",
    "    if a == :listen\n",
    "        if o == sp\n",
    "            return 0.85\n",
    "        else\n",
    "            return 0.15\n",
    "        end\n",
    "    else\n",
    "        return 0.5\n",
    "    end\n",
    "end\n",
    "\n",
    "function R(s, a)\n",
    "    if a == :listen  \n",
    "        return -1.0\n",
    "    elseif s == a # the tiger was found\n",
    "        return -100.0\n",
    "    else # the tiger was escaped\n",
    "        return 10.0\n",
    "    end\n",
    "end\n",
    "\n",
    "m = DiscreteExplicitPOMDP(S,A,O,T,Z,R,γ)"
   ]
  },
  {
   "cell_type": "code",
   "execution_count": null,
   "metadata": {},
   "outputs": [],
   "source": [
    "solver = QMDPSolver()\n",
    "policy = solve(solver, m)"
   ]
  },
  {
   "cell_type": "code",
   "execution_count": null,
   "metadata": {},
   "outputs": [],
   "source": [
    "rsum = 0.0\n",
    "for (s,b,a,o,r) in stepthrough(m, policy, \"s,b,a,o,r\", max_steps=1000)\n",
    "    println(\"s: $s, b: $([pdf(b,s) for s in S]), a: $a, o: $o\")\n",
    "    global rsum += r\n",
    "end\n",
    "println(\"Undiscounted reward was $rsum.\")"
   ]
  },
  {
   "cell_type": "code",
   "execution_count": null,
   "metadata": {},
   "outputs": [],
   "source": []
  }
 ],
 "metadata": {
  "kernelspec": {
   "display_name": "Julia 1.1.1",
   "language": "julia",
   "name": "julia-1.1"
  },
  "language_info": {
   "file_extension": ".jl",
   "mimetype": "application/julia",
   "name": "julia",
   "version": "1.1.1"
  }
 },
 "nbformat": 4,
 "nbformat_minor": 2
}
