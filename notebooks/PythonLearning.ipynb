{
 "cells": [
  {
   "cell_type": "markdown",
   "metadata": {},
   "source": [
    "# Python Learning\n",
    "\n",
    "Using the Boost.Python library, I compiled my tic-tac-toe `Board` class as a library accessable to python 3.7. \n",
    "\n",
    "### To Do:\n",
    "- Added winner variable to TicTacToe class because it's messy to have to keep calling whoWon()\n",
    "- Develop DeepQAgent class\n"
   ]
  },
  {
   "cell_type": "code",
   "execution_count": null,
   "metadata": {},
   "outputs": [],
   "source": [
    "import sys\n",
    "sys.path.append(\"../lib\")"
   ]
  },
  {
   "cell_type": "code",
   "execution_count": null,
   "metadata": {},
   "outputs": [],
   "source": [
    "import numpy as np\n",
    "import tensorflow as tf\n",
    "import Board\n",
    "\n",
    "from pathlib import Path"
   ]
  },
  {
   "cell_type": "code",
   "execution_count": null,
   "metadata": {},
   "outputs": [],
   "source": [
    "class TicTacToe():\n",
    "    def __init__(self, player1, player2, p1_symbol=5, p2_symbol=-2, p1_exporation=1, p2_exporation=1):  \n",
    "        # define two players\n",
    "        p1_name = player1 + str(p1_symbol)\n",
    "        player1 = globals()[player1]\n",
    "        self.player1 = player1(symbol=p1_symbol, name=p1_name, exploration=p1_exporation)\n",
    "        p2_name = player2 + str(p2_symbol)\n",
    "        player2 = globals()[player2]\n",
    "        self.player2 = player2(symbol=p2_symbol, name=p2_name, exploration=p2_exporation)\n",
    "        \n",
    "        self.turnPlayer = self.player1\n",
    "                \n",
    "        # turn couter\n",
    "        self.moveCounter = 1\n",
    "        \n",
    "        # initialize c++ game\n",
    "        self.game = Board.Board(int(p1_symbol), int(p2_symbol))\n",
    "\n",
    "    def printMoveMap(self):\n",
    "        print(\"----------------\")\n",
    "        print(\"|  0 |  1 |  2 |\")\n",
    "        print(\"----------------\")\n",
    "        print(\"|  3 |  4 |  5 |\")\n",
    "        print(\"----------------\")\n",
    "        print(\"|  6 |  7 |  8 |\")\n",
    "        print(\"----------------\")\n",
    "        \n",
    "    def printGame(self):\n",
    "        gameBoard = self.game.getBoard()\n",
    "        print(gameBoard)     \n",
    "        \n",
    "    def play_pvp(self):\n",
    "        self.printMoveMap()\n",
    "        \n",
    "        while not self.game.isBoardFull() and self.game.whoWon() == 0:\n",
    "            print(\"Turn: \", self.moveCounter, \"Player: \", self.game.getTurnPlayer())\n",
    "            self.printGame()\n",
    "            \n",
    "            move = self.turnPlayer.getMove(self.game)\n",
    "            if self.game.addMove(move):\n",
    "                # successfully added move, so change turn player\n",
    "                if self.moveCounter % 2 == 1:\n",
    "                    self.turnPlayer = self.player2\n",
    "                else:\n",
    "                    self.turnPlayer = self.player1\n",
    "                    \n",
    "                self.moveCounter += 1\n",
    "        \n",
    "        if self.game.whoWon() != 0:\n",
    "            if self.player1.symbol == self.game.whoWon():\n",
    "                print(\"Player\", self.player1.name, \"(\", self.game.whoWon(), \")\", \"Won!\")\n",
    "            else:\n",
    "                print(\"Player\", self.player2.name, \"(\", self.game.whoWon(), \")\", \"Won!\")\n",
    "        elif self.game.isBoardFull():\n",
    "            print(\"Stalemate...\")\n",
    "        else:\n",
    "            print(\"Crazy Error: Uncaught stopping condition!\")\n",
    "        \n",
    "        print(\"Final Board:\")\n",
    "        self.printGame()\n",
    "                "
   ]
  },
  {
   "cell_type": "code",
   "execution_count": null,
   "metadata": {},
   "outputs": [],
   "source": [
    "class Human():\n",
    "    def __init__(self, symbol, exploration, name):\n",
    "        self.symbol = symbol\n",
    "        self.name = name\n",
    "        self.exploration = exploration\n",
    "    \n",
    "    def getMove(self, state):\n",
    "        validMoves = state.getValidMoves()\n",
    "        keepTryingInputs = True\n",
    "        while keepTryingInputs:\n",
    "            move = int(input('Choose move: '))\n",
    "            keepTryingInputs = (move not in validMoves)\n",
    "        \n",
    "        return move"
   ]
  },
  {
   "cell_type": "code",
   "execution_count": null,
   "metadata": {},
   "outputs": [],
   "source": [
    "class Rand():\n",
    "    def __init__(self, symbol, exploration, name):\n",
    "        self.symbol = symbol\n",
    "        self.exploration = exploration\n",
    "        self.name = name\n",
    "    \n",
    "    def getMove(self, state):\n",
    "        randMove = int(np.random.choice(state.getValidMoves(), 1))\n",
    "        return randMove"
   ]
  },
  {
   "cell_type": "code",
   "execution_count": null,
   "metadata": {},
   "outputs": [],
   "source": [
    "class DeepQAgent():\n",
    "    def __init__(self, symbol, exploration, name):\n",
    "        self.symbol = symbol\n",
    "        self.name = name\n",
    "        self.exploration = exploration\n",
    "        \n",
    "        self.model = self.getModel()\n",
    "        \n",
    "    def loadModel(self):\n",
    "        modelPath = Path(self.name+'.h5')\n",
    "        if modelPath.is_file():\n",
    "            model = tf.keras.models.load_model(s)\n",
    "            print('Model loaded:', self.name+'.h5')\n",
    "        else:\n",
    "            model = self.buildModel()\n",
    "        \n",
    "        return model\n",
    "    \n",
    "    def buildModel(self):\n",
    "        model = tf.keras.Sequential()\n",
    "        model.add(tf.keras.layers.Dense(18, activation='relu', input_shape=(9,)))\n",
    "        model.add(tf.keras.layers.Dense(18, activation='relu'))\n",
    "        model.add(tf.keras.layers.Dense(18, activation='linear'))\n",
    "        model.compile(optimizer='adam', loss='mean_absolute_error', metrics=['accuracy'])\n",
    "        \n",
    "        return model\n",
    "    \n",
    "    def saveModel(self):\n",
    "        print(\"saving model (fake)\")"
   ]
  },
  {
   "cell_type": "code",
   "execution_count": null,
   "metadata": {
    "scrolled": false
   },
   "outputs": [],
   "source": [
    "game = TicTacToe('Human', 'Rand')\n",
    "game.play_pvp()"
   ]
  },
  {
   "cell_type": "code",
   "execution_count": null,
   "metadata": {},
   "outputs": [],
   "source": []
  },
  {
   "cell_type": "code",
   "execution_count": null,
   "metadata": {},
   "outputs": [],
   "source": []
  }
 ],
 "metadata": {
  "kernelspec": {
   "display_name": "Python 3",
   "language": "python",
   "name": "python3"
  },
  "language_info": {
   "codemirror_mode": {
    "name": "ipython",
    "version": 3
   },
   "file_extension": ".py",
   "mimetype": "text/x-python",
   "name": "python",
   "nbconvert_exporter": "python",
   "pygments_lexer": "ipython3",
   "version": "3.7.4"
  }
 },
 "nbformat": 4,
 "nbformat_minor": 2
}
