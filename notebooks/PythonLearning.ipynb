{
 "cells": [
  {
   "cell_type": "markdown",
   "metadata": {},
   "source": [
    "# Python Learning\n",
    "\n",
    "Using the Boost.Python library, I compiled my tic-tac-toe `Board` class as a library accessable to python 3.7. "
   ]
  },
  {
   "cell_type": "code",
   "execution_count": null,
   "metadata": {},
   "outputs": [],
   "source": [
    "import sys\n",
    "sys.path.append(\"../lib\")"
   ]
  },
  {
   "cell_type": "code",
   "execution_count": null,
   "metadata": {},
   "outputs": [],
   "source": [
    "import Board"
   ]
  },
  {
   "cell_type": "code",
   "execution_count": null,
   "metadata": {},
   "outputs": [],
   "source": [
    "class TicTacToe():\n",
    "    def __init__(self):\n",
    "        self.game = Board.Board()\n",
    "    \n",
    "    def printMoveMap(self):\n",
    "        print(\"----------------\")\n",
    "        print(\"|  0 |  1 |  2 |\")\n",
    "        print(\"----------------\")\n",
    "        print(\"|  3 |  4 |  5 |\")\n",
    "        print(\"----------------\")\n",
    "        print(\"|  6 |  7 |  8 |\")\n",
    "        print(\"----------------\")\n",
    "        \n",
    "    def printGame(self):\n",
    "        gameBoard = self.game.getBoard()\n",
    "        print(gameBoard)     \n",
    "        \n",
    "    def play_game(self):\n",
    "        self.printMoveMap()\n",
    "        \n",
    "        while not self.game.isBoardFull() and self.game.whoWon() == 0:\n",
    "            print(\"Player\", self.game.getTurnPlayer(), \"'s turn:\")\n",
    "            self.printGame()\n",
    "            \n",
    "            keepTryingInputs = True\n",
    "            while keepTryingInputs:\n",
    "                move = int(input('Choose move number: '))\n",
    "                keepTryingInputs = not self.game.addMove(move)\n",
    "        \n",
    "        if self.game.whoWon() != 0:\n",
    "            print(\"Player\", self.game.whoWon(), \"Won!\")\n",
    "        elif self.game.isBoardFull():\n",
    "            print(\"Stalemate...\")\n",
    "        else:\n",
    "            print(\"Crazy Error: Uncaught stopping condition!\")\n",
    "        \n",
    "        print(\"Final Board:\")\n",
    "        self.printGame()"
   ]
  },
  {
   "cell_type": "code",
   "execution_count": null,
   "metadata": {},
   "outputs": [],
   "source": [
    "game = TicTacToe()\n",
    "game.play_game()"
   ]
  }
 ],
 "metadata": {
  "kernelspec": {
   "display_name": "Python 3",
   "language": "python",
   "name": "python3"
  },
  "language_info": {
   "codemirror_mode": {
    "name": "ipython",
    "version": 3
   },
   "file_extension": ".py",
   "mimetype": "text/x-python",
   "name": "python",
   "nbconvert_exporter": "python",
   "pygments_lexer": "ipython3",
   "version": "3.7.4"
  }
 },
 "nbformat": 4,
 "nbformat_minor": 2
}
