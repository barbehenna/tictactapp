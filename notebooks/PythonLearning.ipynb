{
 "cells": [
  {
   "cell_type": "markdown",
   "metadata": {},
   "source": [
    "# Python Learning\n",
    "\n",
    "Using the Boost.Python library, I compiled my tic-tac-toe `Board` class as a library accessable to python 3.7. "
   ]
  },
  {
   "cell_type": "code",
   "execution_count": null,
   "metadata": {},
   "outputs": [],
   "source": [
    "import sys\n",
    "sys.path.append(\"../lib\")"
   ]
  },
  {
   "cell_type": "code",
   "execution_count": null,
   "metadata": {},
   "outputs": [],
   "source": [
    "import numpy as np\n",
    "import Board"
   ]
  },
  {
   "cell_type": "code",
   "execution_count": null,
   "metadata": {},
   "outputs": [],
   "source": [
    "class TicTacToe():\n",
    "    def __init__(self, player1, player2, p1_int=1, p2_int=-1):  \n",
    "        # define two players\n",
    "        player1 = globals()[player1]\n",
    "        self.player1 = player1(name=p1_int)\n",
    "        player2 = globals()[player2]\n",
    "        self.player2 = player2(name=p2_int)\n",
    "        \n",
    "        # turn couter\n",
    "        self.turnCounter = 1\n",
    "        \n",
    "        # initialize c++ game\n",
    "        self.game = Board.Board(p1_int, p2_int)\n",
    "\n",
    "    def printMoveMap(self):\n",
    "        print(\"----------------\")\n",
    "        print(\"|  0 |  1 |  2 |\")\n",
    "        print(\"----------------\")\n",
    "        print(\"|  3 |  4 |  5 |\")\n",
    "        print(\"----------------\")\n",
    "        print(\"|  6 |  7 |  8 |\")\n",
    "        print(\"----------------\")\n",
    "        \n",
    "    def printGame(self):\n",
    "        gameBoard = self.game.getBoard()\n",
    "        print(gameBoard)     \n",
    "        \n",
    "    def play_pvp(self):\n",
    "        self.printMoveMap()\n",
    "        \n",
    "        while not self.game.isBoardFull() and self.game.whoWon() == 0:\n",
    "            print(\"Turn: \", self.turnCounter, \"Player: \", self.game.getTurnPlayer())\n",
    "            self.printGame()\n",
    "            \n",
    "            # Get move (may be different by player)\n",
    "            keepTryingInputs = True\n",
    "            if self.turnCounter % 2 == 1:\n",
    "                while keepTryingInputs:\n",
    "                    move = self.player1.getMove(self.game)\n",
    "                    keepTryingInputs = not self.game.addMove(move)\n",
    "            else:\n",
    "                while keepTryingInputs:\n",
    "                    move = self.player2.getMove(self.game)\n",
    "                    keepTryingInputs = not self.game.addMove(move)\n",
    "            \n",
    "            self.turnCounter += 1\n",
    "        \n",
    "        if self.game.whoWon() != 0:\n",
    "            print(\"Player\", self.game.whoWon(), \"Won!\")\n",
    "        elif self.game.isBoardFull():\n",
    "            print(\"Stalemate...\")\n",
    "        else:\n",
    "            print(\"Crazy Error: Uncaught stopping condition!\")\n",
    "        \n",
    "        print(\"Final Board:\")\n",
    "        self.printGame()\n"
   ]
  },
  {
   "cell_type": "code",
   "execution_count": null,
   "metadata": {},
   "outputs": [],
   "source": [
    "class Human():\n",
    "    def __init__(self, name):\n",
    "        self.name = name\n",
    "    \n",
    "    def getMove(self, state):\n",
    "        validMoves = state.getValidMoves()\n",
    "        keepTryingInputs = True\n",
    "        while keepTryingInputs:\n",
    "            move = int(input('Choose move number: '))\n",
    "            keepTryingInputs = (move not in validMoves)\n",
    "        \n",
    "        return move"
   ]
  },
  {
   "cell_type": "code",
   "execution_count": null,
   "metadata": {},
   "outputs": [],
   "source": [
    "class Rand():\n",
    "    def __init__(self, name):\n",
    "        self.name = name\n",
    "    \n",
    "    def getMove(self, state):\n",
    "        print(state.getValidMoves())\n",
    "        randMove = int(np.random.choice(state.getValidMoves(), 1))\n",
    "        return randMove"
   ]
  },
  {
   "cell_type": "code",
   "execution_count": null,
   "metadata": {
    "scrolled": true
   },
   "outputs": [],
   "source": [
    "game = TicTacToe('Rand', 'Rand')\n",
    "game.play_pvp()"
   ]
  },
  {
   "cell_type": "code",
   "execution_count": null,
   "metadata": {},
   "outputs": [],
   "source": []
  }
 ],
 "metadata": {
  "kernelspec": {
   "display_name": "Python 3",
   "language": "python",
   "name": "python3"
  },
  "language_info": {
   "codemirror_mode": {
    "name": "ipython",
    "version": 3
   },
   "file_extension": ".py",
   "mimetype": "text/x-python",
   "name": "python",
   "nbconvert_exporter": "python",
   "pygments_lexer": "ipython3",
   "version": "3.7.4"
  }
 },
 "nbformat": 4,
 "nbformat_minor": 2
}
