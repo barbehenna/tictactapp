{
 "cells": [
  {
   "cell_type": "markdown",
   "metadata": {},
   "source": [
    "# Python Learning\n",
    "\n",
    "Using the Boost.Python library, I compiled my tic-tac-toe `Board` class as a library accessable to python 3.7. \n",
    "\n",
    "### To Do:\n",
    "- Added winner variable to TicTacToe class because it's messy to have to keep calling whoWon()\n",
    "- Develop DeepQAgent class\n"
   ]
  },
  {
   "cell_type": "code",
   "execution_count": 1,
   "metadata": {},
   "outputs": [],
   "source": [
    "import sys\n",
    "sys.path.append(\"../lib\")\n",
    "\n",
    "import numpy as np\n",
    "import tensorflow as tf\n",
    "import Board\n",
    "\n",
    "from pathlib import Path\n",
    "from tqdm import tqdm\n",
    "import matplotlib.pyplot as plt"
   ]
  },
  {
   "cell_type": "code",
   "execution_count": 2,
   "metadata": {},
   "outputs": [],
   "source": [
    "class TicTacToe():\n",
    "    def __init__(self, player1, player2, p1_symbol=1, p2_symbol=-1, p1_exporation=0.8, p2_exporation=0.8):  \n",
    "        # define two players\n",
    "        self.p1_symbol = p1_symbol\n",
    "        self.p1_type = player1\n",
    "        self.p1_exporation = p1_exporation\n",
    "        self.p1_name = self.p1_type + str(self.p1_symbol)\n",
    "        player1 = globals()[self.p1_type]\n",
    "        self.player1 = player1(symbol=self.p1_symbol, name=self.p1_name, exploration=self.p1_exporation)\n",
    "        \n",
    "        self.p2_symbol = p2_symbol\n",
    "        self.p2_type = player2\n",
    "        self.p2_exporation = p2_exporation\n",
    "        self.p2_name = self.p2_type + str(self.p2_symbol)\n",
    "        player2 = globals()[self.p2_type]\n",
    "        self.player2 = player2(symbol=self.p2_symbol, name=self.p2_name, exploration=self.p2_exporation)\n",
    "        \n",
    "        self.turnPlayer = self.player1\n",
    "                \n",
    "        # turn couter\n",
    "        self.moveCounter = 1\n",
    "        \n",
    "        # initialize c++ game\n",
    "        self.game = Board.Board(int(self.p1_symbol), int(self.p2_symbol))\n",
    "        \n",
    "    def reinit(self):\n",
    "        self.moveCounter = 1\n",
    "        self.turnPlayer = self.player1\n",
    "        self.game = Board.Board(int(self.p1_symbol), int(self.p2_symbol))\n",
    "\n",
    "    def printMoveMap(self):\n",
    "        print(\"----------------\")\n",
    "        print(\"|  0 |  1 |  2 |\")\n",
    "        print(\"----------------\")\n",
    "        print(\"|  3 |  4 |  5 |\")\n",
    "        print(\"----------------\")\n",
    "        print(\"|  6 |  7 |  8 |\")\n",
    "        print(\"----------------\")\n",
    "        \n",
    "    def printGame(self):\n",
    "        gameBoard = self.game.getBoard()\n",
    "        print(gameBoard)     \n",
    "        \n",
    "    def play_pvp(self):\n",
    "        self.printMoveMap()\n",
    "        \n",
    "        while not self.game.isBoardFull() and self.game.whoWon() == 0:\n",
    "            print(\"Turn: \", self.moveCounter, \"Player: \", self.game.getTurnPlayer())\n",
    "            self.printGame()\n",
    "            \n",
    "            move = self.turnPlayer.getMove(self.game)\n",
    "            if self.game.addMove(move):\n",
    "                # successfully added move, so change turn player\n",
    "                if self.moveCounter % 2 == 1:\n",
    "                    self.turnPlayer = self.player2\n",
    "                else:\n",
    "                    self.turnPlayer = self.player1\n",
    "                    \n",
    "                self.moveCounter += 1\n",
    "        \n",
    "        if self.game.whoWon() != 0:\n",
    "            if self.player1.symbol == self.game.whoWon():\n",
    "                print(\"Player\", self.player1.name, \"(\", self.game.whoWon(), \")\", \"Won!\")\n",
    "            else:\n",
    "                print(\"Player\", self.player2.name, \"(\", self.game.whoWon(), \")\", \"Won!\")\n",
    "        elif self.game.isBoardFull():\n",
    "            print(\"Stalemate...\")\n",
    "        else:\n",
    "            print(\"Crazy Error: Uncaught stopping condition!\")\n",
    "        \n",
    "        print(\"Final Board:\")\n",
    "        self.printGame()\n",
    "        \n",
    "    def train(self, ngames, epochs=10, plot=False, plotEveryn=1000, plotSave=False, plotSaveName='train-%d.png'):\n",
    "        # flush out results (recording and useage)\n",
    "        results = {'whoWon': np.zeros((ngames)), 'boardFull': np.zeros((ngames))}\n",
    "\n",
    "        for game in tqdm(range(ngames)):\n",
    "            while not self.game.isBoardFull() and self.game.whoWon() == 0:\n",
    "                move = self.turnPlayer.getMove_train(self.game, epochs)\n",
    "                if self.game.addMove(move):\n",
    "                    if self.moveCounter % 2 == 1:\n",
    "                        self.turnPlayer = self.player2\n",
    "                    else:\n",
    "                        self.turnPlayer = self.player1\n",
    "\n",
    "                    self.moveCounter += 1\n",
    "            \n",
    "            results['whoWon'][game] = self.game.whoWon()\n",
    "            results['boardFull'][game] = self.game.isBoardFull()\n",
    "            self.reinit()\n",
    "            \n",
    "            if plot and (game+1)%plotEveryn is 0:\n",
    "                fig = self.plotRes(results, ngames, ngames//plotEveryn)\n",
    "                if plotSave:\n",
    "                    fig.savefig(plotSaveName%game)\n",
    "                fig.show()\n",
    "\n",
    "        self.player1.saveModel()\n",
    "        self.player2.saveModel()\n",
    "        return results\n",
    "            \n",
    "    def test(self, ngames):\n",
    "        results = {'whoWon': np.zeros((ngames)), 'boardFull': np.zeros((ngames))}\n",
    "        \n",
    "        for game in tqdm(range(ngames)):\n",
    "            while not self.game.isBoardFull() and self.game.whoWon() == 0:\n",
    "                move = self.turnPlayer.getMove(self.game)\n",
    "                if self.game.addMove(move):\n",
    "                    if self.moveCounter % 2 == 1:\n",
    "                        self.turnPlayer = self.player2\n",
    "                    else:\n",
    "                        self.turnPlayer = self.player1\n",
    "\n",
    "                    self.moveCounter += 1\n",
    "                    \n",
    "            results['whoWon'][game] = self.game.whoWon()\n",
    "            results['boardFull'][game] = self.game.isBoardFull()\n",
    "            self.reinit()\n",
    "        \n",
    "        # plot results\n",
    "        self.plotRes(results, ngames, 1).show()\n",
    "\n",
    "        return results\n",
    "\n",
    "    def plotRes(self, results, ngames, nbars):\n",
    "        # overall results for pie plot\n",
    "        labels, counts = np.unique(results['whoWon'], return_counts=True)\n",
    "        \n",
    "        # plot \n",
    "        fig, ax = plt.subplots(2, 1, constrained_layout=True)\n",
    "        # pie plot\n",
    "        ax[0].pie(counts, labels=labels, autopct='%1.1f%%')\n",
    "        ax[0].set_title('overall results')\n",
    "        # which games ended in stalemate\n",
    "        ax[1].plot(results['boardFull'], 'ro')\n",
    "        ax[1].set_title('stalemate')\n",
    "\n",
    "        return fig"
   ]
  },
  {
   "cell_type": "code",
   "execution_count": 3,
   "metadata": {},
   "outputs": [],
   "source": [
    "class Human():\n",
    "    def __init__(self, symbol, exploration, name):\n",
    "        self.symbol = symbol\n",
    "        self.name = name\n",
    "        self.exploration = exploration\n",
    "        \n",
    "    def getMove_train(self, state, epochs):\n",
    "        return self.getMove(state)\n",
    "    \n",
    "    def getMove(self, state):\n",
    "        validMoves = state.getValidMoves()\n",
    "        keepTryingInputs = True\n",
    "        while keepTryingInputs:\n",
    "            move = int(input('Choose move: '))\n",
    "            keepTryingInputs = (move not in validMoves)\n",
    "        \n",
    "        return move"
   ]
  },
  {
   "cell_type": "code",
   "execution_count": 4,
   "metadata": {},
   "outputs": [],
   "source": [
    "class Rand():\n",
    "    def __init__(self, symbol, exploration, name):\n",
    "        self.symbol = symbol\n",
    "        self.exploration = exploration\n",
    "        self.name = name\n",
    "        \n",
    "    def getMove_train(self, state, epochs):\n",
    "        return self.getMove(state)\n",
    "    \n",
    "    def getMove(self, state):\n",
    "        randMove = int(np.random.choice(state.getValidMoves(), 1))\n",
    "        return randMove"
   ]
  },
  {
   "cell_type": "code",
   "execution_count": 5,
   "metadata": {},
   "outputs": [],
   "source": [
    "class DeepQAgent():\n",
    "    def __init__(self, symbol, exploration, name):\n",
    "        self.symbol = symbol\n",
    "        self.name = name\n",
    "        self.exploration = exploration\n",
    "        \n",
    "        self.prevBoard = np.zeros((3,3))\n",
    "        \n",
    "        self.model = self.loadModel()\n",
    "        \n",
    "    def loadModel(self):\n",
    "        modelPath = Path(self.name+'.h5')\n",
    "        if modelPath.is_file():\n",
    "            model = tf.keras.models.load_model(modelPath)\n",
    "            print('Model loaded:', self.name+'.h5')\n",
    "        else:\n",
    "            model = self.buildModel()\n",
    "        \n",
    "        return model\n",
    "    \n",
    "    def buildModel(self):\n",
    "        model = tf.keras.Sequential()\n",
    "        model.add(tf.keras.layers.Conv2D(filters=8, kernel_size=(3,3), padding=\"same\", activation='relu', input_shape=(3,3,1)))\n",
    "        model.add(tf.keras.layers.Conv2D(filters=8, kernel_size=(3,3), padding=\"same\", activation='relu'))\n",
    "        model.add(tf.keras.layers.MaxPool2D())\n",
    "        model.add(tf.keras.layers.Flatten())\n",
    "        model.add(tf.keras.layers.Dense(18, activation='relu'))\n",
    "        model.add(tf.keras.layers.Dense(18, activation='relu'))\n",
    "        model.add(tf.keras.layers.Dense(18, activation='linear'))\n",
    "        model.compile(optimizer='adam', loss='mse', metrics=['accuracy'])\n",
    "                \n",
    "        return model\n",
    "    \n",
    "    def saveModel(self):\n",
    "        modelPath = Path(self.name+'.h5')\n",
    "        self.model.save(modelPath)\n",
    "        \n",
    "    def getMove_train(self, state, epochs=10):\n",
    "        winner = state.whoWon() # pl_symbol, p2_symbol, or 0\n",
    "        if state.isBoardFull() and winner == 0: # (0 could mean not done too)\n",
    "            winner = 'stalemate'\n",
    "        \n",
    "        prevValPredicted = self.model.predict(self.prevBoard.reshape(1,3,3,1))\n",
    "        reward = self.calcReward(winner)\n",
    "        \n",
    "        if winner == 0: # still playing\n",
    "            currValuePredicted = self.model.predict(state.getBoard().reshape(1,3,3,1))\n",
    "        else:\n",
    "            currValuePredicted = 0\n",
    "            \n",
    "        # estimate Q value\n",
    "        alpha = 0.5 # time discount\n",
    "        target = np.array(prevValPredicted + alpha*(reward + currValuePredicted - prevValPredicted))\n",
    "        \n",
    "        # train\n",
    "        self.model.fit(self.prevBoard.reshape(1,3,3,1), target, epochs=epochs, verbose=0)\n",
    "        \n",
    "        # increment state\n",
    "        self.prevBoard = state.getBoard()\n",
    "        \n",
    "        return self.getMove(state)\n",
    "    \n",
    "    def calcReward(self, winner):\n",
    "        reward = -1\n",
    "        if winner == self.symbol: # you/we won\n",
    "            reward = 1\n",
    "        elif winner == 0: # not done\n",
    "            reward = 0\n",
    "        elif winner is 'stalemate': # over, nobody won\n",
    "            reward = 0\n",
    "        else: # lost\n",
    "            reward = -1\n",
    "            \n",
    "        return reward\n",
    "\n",
    "    def getMove(self, state):\n",
    "        validMoves = state.getValidMoves()\n",
    "        probBestMove = self.model.predict(state.getBoard().reshape(1,3,3,1))\n",
    "        \n",
    "        # I want the index [0:8] of the max, valid move in the original array\n",
    "        maxValidMove = probBestMove[0,validMoves].max()\n",
    "        move = np.where(probBestMove[0,:] == maxValidMove)\n",
    "        move = int(move[0][0])\n",
    "        \n",
    "        if np.random.rand(1)[0] < self.exploration:\n",
    "            return move\n",
    "        else:\n",
    "            randOut = np.random.choice(state.getValidMoves(),1)\n",
    "            randOut = int(randOut)\n",
    "            return randOut\n",
    "        "
   ]
  },
  {
   "cell_type": "code",
   "execution_count": 7,
   "metadata": {
    "scrolled": true
   },
   "outputs": [
    {
     "name": "stdout",
     "output_type": "stream",
     "text": [
      "Model loaded: DeepQAgent1.h5\n"
     ]
    },
    {
     "name": "stderr",
     "output_type": "stream",
     "text": [
      "\r",
      "  0%|          | 0/100 [00:00<?, ?it/s]"
     ]
    },
    {
     "name": "stdout",
     "output_type": "stream",
     "text": [
      "Model loaded: DeepQAgent-1.h5\n"
     ]
    },
    {
     "name": "stderr",
     "output_type": "stream",
     "text": [
      " 19%|█▉        | 19/100 [00:04<00:15,  5.25it/s]/usr/local/lib/python3.7/site-packages/matplotlib/figure.py:445: UserWarning: Matplotlib is currently using module://ipykernel.pylab.backend_inline, which is a non-GUI backend, so cannot show the figure.\n",
      "  % get_backend())\n",
      "100%|██████████| 100/100 [00:21<00:00,  4.40it/s]\n"
     ]
    },
    {
     "data": {
      "image/png": "[encoded data removed]",
      "text/plain": [
       "<Figure size 432x288 with 2 Axes>"
      ]
     },
     "metadata": {
      "needs_background": "light"
     },
     "output_type": "display_data"
    },
    {
     "data": {
      "image/png": "[encoded data removed]",
      "text/plain": [
       "<Figure size 432x288 with 2 Axes>"
      ]
     },
     "metadata": {
      "needs_background": "light"
     },
     "output_type": "display_data"
    },
    {
     "data": {
      "image/png": "[encoded data removed]",
      "text/plain": [
       "<Figure size 432x288 with 2 Axes>"
      ]
     },
     "metadata": {
      "needs_background": "light"
     },
     "output_type": "display_data"
    },
    {
     "data": {
      "image/png": "[encoded data removed]",
      "text/plain": [
       "<Figure size 432x288 with 2 Axes>"
      ]
     },
     "metadata": {
      "needs_background": "light"
     },
     "output_type": "display_data"
    },
    {
     "data": {
      "image/png": "[encoded data removed]",
      "text/plain": [
       "<Figure size 432x288 with 2 Axes>"
      ]
     },
     "metadata": {
      "needs_background": "light"
     },
     "output_type": "display_data"
    }
   ],
   "source": [
    "game = TicTacToe('DeepQAgent', 'DeepQAgent', p1_exporation=0.3333, p2_exporation=0.3333)\n",
    "res = game.train(100, epochs=10, plot=True, plotEveryn=20, plotSave=True)\n",
    "# game.play_pvp()"
   ]
  },
  {
   "cell_type": "code",
   "execution_count": 8,
   "metadata": {},
   "outputs": [
    {
     "name": "stdout",
     "output_type": "stream",
     "text": [
      "Model loaded: DeepQAgent1.h5\n"
     ]
    },
    {
     "name": "stderr",
     "output_type": "stream",
     "text": [
      "  1%|          | 1/100 [00:00<00:13,  7.30it/s]"
     ]
    },
    {
     "name": "stdout",
     "output_type": "stream",
     "text": [
      "Model loaded: DeepQAgent-1.h5\n"
     ]
    },
    {
     "name": "stderr",
     "output_type": "stream",
     "text": [
      "100%|██████████| 100/100 [00:01<00:00, 62.67it/s]\n",
      "/usr/local/lib/python3.7/site-packages/matplotlib/figure.py:445: UserWarning: Matplotlib is currently using module://ipykernel.pylab.backend_inline, which is a non-GUI backend, so cannot show the figure.\n",
      "  % get_backend())\n"
     ]
    },
    {
     "data": {
      "image/png": "[encoded data removed]",
      "text/plain": [
       "<Figure size 432x288 with 2 Axes>"
      ]
     },
     "metadata": {
      "needs_background": "light"
     },
     "output_type": "display_data"
    }
   ],
   "source": [
    "game = TicTacToe('DeepQAgent', 'DeepQAgent', p1_exporation=0, p2_exporation=0)\n",
    "res = game.test(100)"
   ]
  },
  {
   "cell_type": "code",
   "execution_count": 9,
   "metadata": {},
   "outputs": [
    {
     "name": "stdout",
     "output_type": "stream",
     "text": [
      "Model loaded: DeepQAgent1.h5\n",
      "----------------\n",
      "|  0 |  1 |  2 |\n",
      "----------------\n",
      "|  3 |  4 |  5 |\n",
      "----------------\n",
      "|  6 |  7 |  8 |\n",
      "----------------\n",
      "Turn:  1 Player:  1\n",
      "[[0 0 0]\n",
      " [0 0 0]\n",
      " [0 0 0]]\n",
      "Turn:  2 Player:  -1\n",
      "[[0 0 0]\n",
      " [0 0 1]\n",
      " [0 0 0]]\n",
      "Choose move: 4\n",
      "Turn:  3 Player:  1\n",
      "[[ 0  0  0]\n",
      " [ 0 -1  1]\n",
      " [ 0  0  0]]\n",
      "Turn:  4 Player:  -1\n",
      "[[ 1  0  0]\n",
      " [ 0 -1  1]\n",
      " [ 0  0  0]]\n",
      "Choose move: 2\n",
      "Turn:  5 Player:  1\n",
      "[[ 1  0 -1]\n",
      " [ 0 -1  1]\n",
      " [ 0  0  0]]\n",
      "Turn:  6 Player:  -1\n",
      "[[ 1  0 -1]\n",
      " [ 1 -1  1]\n",
      " [ 0  0  0]]\n",
      "Choose move: 6\n",
      "Player Human-1 ( -1 ) Won!\n",
      "Final Board:\n",
      "[[ 1  0 -1]\n",
      " [ 1 -1  1]\n",
      " [-1  0  0]]\n"
     ]
    }
   ],
   "source": [
    "game = TicTacToe('DeepQAgent', 'Human', p1_exporation=0.05)\n",
    "game.play_pvp()"
   ]
  },
  {
   "cell_type": "code",
   "execution_count": null,
   "metadata": {},
   "outputs": [],
   "source": [
    "cuts = [50,100,150]\n",
    "splits = np.split(res['whoWon'], cuts)\n",
    "dat = np.zeros((3,len(splits)))\n",
    "for x in range(len(splits)):\n",
    "    try:\n",
    "        dat[:,x] = np.unique(splits[x], return_counts=True)[1]\n",
    "    except:\n",
    "        pass\n",
    "\n",
    "\n",
    "N = dat.shape[1]\n",
    "ind = np.arange(N)\n",
    "width = 0.35\n",
    "\n",
    "p1 = plt.bar(ind, dat[0,:], width)\n",
    "p2 = plt.bar(ind, dat[1,:], width, bottom=dat[0,:])\n",
    "p3 = plt.bar(ind, dat[2,:], width, bottom=dat[0,:]+dat[1,:])\n",
    "\n",
    "plt.xticks(ind, cuts)\n",
    "plt.legend((p1[0], p2[0], p3[0]), ('p1', 'stalemate', 'p2'))"
   ]
  },
  {
   "cell_type": "code",
   "execution_count": null,
   "metadata": {},
   "outputs": [],
   "source": []
  },
  {
   "cell_type": "code",
   "execution_count": null,
   "metadata": {},
   "outputs": [],
   "source": []
  },
  {
   "cell_type": "code",
   "execution_count": null,
   "metadata": {},
   "outputs": [],
   "source": []
  }
 ],
 "metadata": {
  "kernelspec": {
   "display_name": "Python 3",
   "language": "python",
   "name": "python3"
  },
  "language_info": {
   "codemirror_mode": {
    "name": "ipython",
    "version": 3
   },
   "file_extension": ".py",
   "mimetype": "text/x-python",
   "name": "python",
   "nbconvert_exporter": "python",
   "pygments_lexer": "ipython3",
   "version": "3.7.4"
  }
 },
 "nbformat": 4,
 "nbformat_minor": 2
}
